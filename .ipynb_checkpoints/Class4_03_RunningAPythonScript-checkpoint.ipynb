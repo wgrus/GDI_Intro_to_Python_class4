{
 "cells": [
  {
   "cell_type": "markdown",
   "metadata": {},
   "source": [
    "Running a python script file.\n",
    "=============================\n",
    "\n",
    "Let's take one of the Python scripts we've written and see how run a Python script.\n",
    "\n",
    "Go back to the Class3_04 notebook and copy one of your programs (email the band, make the happy hour menu, or print out 99 bottles of beer on the wall.)\n",
    "\n",
    "Open up your text editor.\n",
    "\n",
    "*Side Note. Good editors for coding are [NotePad++](https://notepad-plus-plus.org/download/v6.9.2.html) or [SublimeText2](https://www.sublimetext.com/2) or [Atom](https://atom.io/). They have added functionality compared to standard Windows and Mac Text editors like NotePad or TextWrangler.*\n",
    "\n",
    "*If you don't have one of these or a similar text editor, you should get one!*\n",
    "\n",
    "Copy your program into a new file.\n",
    "\n",
    "Save your file as Class4.py in the same directory where these notebooks are.\n",
    "\n",
    "Open up a new command line.\n",
    "\n",
    "type\n",
    "\n",
    "> python Class4.py\n",
    "\n",
    "What happens?"
   ]
  },
  {
   "cell_type": "markdown",
   "metadata": {},
   "source": [
    "Now in the following blank code cell type\n",
    "\n",
    "> %run Class4.py"
   ]
  },
  {
   "cell_type": "code",
   "execution_count": null,
   "metadata": {
    "collapsed": false
   },
   "outputs": [],
   "source": []
  },
  {
   "cell_type": "markdown",
   "metadata": {},
   "source": [
    "> %run months.py"
   ]
  },
  {
   "cell_type": "code",
   "execution_count": null,
   "metadata": {
    "collapsed": true
   },
   "outputs": [],
   "source": []
  }
 ],
 "metadata": {
  "kernelspec": {
   "display_name": "py35",
   "language": "python",
   "name": "py35"
  },
  "language_info": {
   "codemirror_mode": {
    "name": "ipython",
    "version": 3
   },
   "file_extension": ".py",
   "mimetype": "text/x-python",
   "name": "python",
   "nbconvert_exporter": "python",
   "pygments_lexer": "ipython3",
   "version": "3.5.1"
  }
 },
 "nbformat": 4,
 "nbformat_minor": 0
}
