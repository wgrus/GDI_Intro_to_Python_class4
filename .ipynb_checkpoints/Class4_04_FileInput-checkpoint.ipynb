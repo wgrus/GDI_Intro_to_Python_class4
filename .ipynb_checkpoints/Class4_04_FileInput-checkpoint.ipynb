{
 "cells": [
  {
   "cell_type": "markdown",
   "metadata": {},
   "source": [
    "Reading from a file\n",
    "===================\n",
    "\n",
    "Python can easily read input from text files (tab-delimited, space-delimited, comma-delimited) with builtin modules like [csv](https://docs.python.org/3/library/csv.html) or other Python packages like [PDFminer](https://pypi.python.org/pypi/pdfminer3k) and [Word](https://pypi.python.org/pypi/python-docx).\n",
    "\n",
    "Let's practice by coding up this internet quiz.\n",
    "\n",
    "Here is a [quiz](http://blogs.scientificamerican.com/beautiful-minds/will-the-real-introverts-please-stand-up/) about whether you are an introvert, an ambivert, or an extravert.\n",
    "\n",
    "Unfortunately, it does not calculate your score for you, so let's write a program to calculate the score!\n",
    "\n",
    "I have copied all the questions into the file Introvert_Quiz.txt\n",
    "\n",
    "First let's learn how to read from the file.\n",
    "\n",
    "> infile = open('Introvert_Quiz.txt', 'r')\n",
    "\n",
    "> whole_file = infile.read()\n",
    "\n",
    "> lines = infile.readlines()\n"
   ]
  },
  {
   "cell_type": "code",
   "execution_count": null,
   "metadata": {
    "collapsed": true
   },
   "outputs": [],
   "source": []
  },
  {
   "cell_type": "markdown",
   "metadata": {},
   "source": [
    "> whole_file\n",
    "\n",
    "> lines"
   ]
  },
  {
   "cell_type": "code",
   "execution_count": null,
   "metadata": {
    "collapsed": true
   },
   "outputs": [],
   "source": []
  },
  {
   "cell_type": "markdown",
   "metadata": {},
   "source": [
    "> infile = open('Introvert_Quiz.txt', 'r')\n",
    "\n",
    "> whole_file = infile.read()\n",
    "\n",
    "> infile = open('Introvert_Quiz.txt', 'r')\n",
    "\n",
    "> lines = infile.readlines()"
   ]
  },
  {
   "cell_type": "code",
   "execution_count": null,
   "metadata": {
    "collapsed": true
   },
   "outputs": [],
   "source": []
  },
  {
   "cell_type": "markdown",
   "metadata": {},
   "source": [
    "If we open the file by assignment, we have to remember to close the file.\n",
    "\n",
    "> infile.closed"
   ]
  },
  {
   "cell_type": "code",
   "execution_count": null,
   "metadata": {
    "collapsed": false
   },
   "outputs": [],
   "source": []
  },
  {
   "cell_type": "markdown",
   "metadata": {},
   "source": [
    "> infile.close()\n",
    "\n",
    "> infile.closed"
   ]
  },
  {
   "cell_type": "code",
   "execution_count": null,
   "metadata": {
    "collapsed": true
   },
   "outputs": [],
   "source": []
  },
  {
   "cell_type": "markdown",
   "metadata": {},
   "source": [
    "If we use a **with** statement, the file will automatically close once the clode finishes.\n",
    "\n",
    "> with open('Introvert_Quiz.txt','r') as infile:\n",
    "\n",
    ">     lines = infile.readlines()\n",
    "\n",
    "> lines\n",
    "\n",
    "> infile.closed"
   ]
  },
  {
   "cell_type": "code",
   "execution_count": null,
   "metadata": {
    "collapsed": true
   },
   "outputs": [],
   "source": [
    "def get_lines():\n",
    "    '''Read in quiz questions and store them in a list'''\n",
    "    \n",
    "    return lines"
   ]
  },
  {
   "cell_type": "code",
   "execution_count": null,
   "metadata": {
    "collapsed": true
   },
   "outputs": [],
   "source": [
    "def get_scores(lines):\n",
    "    '''Get the users score for each question and store them in a list.\n",
    "    Advise the user to rate each item from 1 (doesn't apply to me at all) to 5 (really applies to me)'''\n",
    "    \n",
    "    return scores"
   ]
  },
  {
   "cell_type": "code",
   "execution_count": null,
   "metadata": {
    "collapsed": true
   },
   "outputs": [],
   "source": [
    "def score_switch(score):\n",
    "    '''Transform an individual score'''\n",
    "    \n",
    "    return new_score"
   ]
  },
  {
   "cell_type": "code",
   "execution_count": null,
   "metadata": {
    "collapsed": true
   },
   "outputs": [],
   "source": [
    "def transform_scores(scores):\n",
    "    '''Switch the scores for questions #2, #3, #4, #6, #7, #13, #15, #18, and #20 \n",
    "    (replace 5=1, 4=2, 3=3, 2=4, and 1=5).'''\n",
    "    \n",
    "    return new_scores"
   ]
  },
  {
   "cell_type": "code",
   "execution_count": null,
   "metadata": {
    "collapsed": true
   },
   "outputs": [],
   "source": [
    "def get_personality_type(scores):\n",
    "    '''Get the personality score and type based on the new scores'''\n",
    "    \n",
    "    return personality_score, personality_type"
   ]
  },
  {
   "cell_type": "code",
   "execution_count": null,
   "metadata": {
    "collapsed": true
   },
   "outputs": [],
   "source": [
    "def get_ambivert_type(scores):\n",
    "    '''Find the ambivert type as enthusiasm or assertiveness.'''\n",
    "    \n",
    "    return ambivert_type"
   ]
  },
  {
   "cell_type": "code",
   "execution_count": null,
   "metadata": {
    "collapsed": true
   },
   "outputs": [],
   "source": [
    "lines = get_liines()\n",
    "scores = get_scores()\n",
    "new_scores = transform_scores(scores)\n",
    "personality_score, personality_type = get_personality_type(new_scores)\n",
    "print('Your personality type is', personality_type, 'with an average score of', personality_score)\n",
    "if personality_type == 'ambivert':\n",
    "    ambivert_type = get_ambivert_type(new_scores)\n",
    "    print('Although you are an ambivert, you have stronger', ambivert_type, 'tendencies.')\n",
    "\n"
   ]
  },
  {
   "cell_type": "markdown",
   "metadata": {},
   "source": [
    "Other file formats\n",
    "==================\n",
    "\n",
    "Python also lets you read in (and write out) other file formats\n",
    "\n",
    "- XML\n",
    "\n",
    "- HTML\n",
    "\n",
    "- JSON"
   ]
  },
  {
   "cell_type": "code",
   "execution_count": null,
   "metadata": {
    "collapsed": true
   },
   "outputs": [],
   "source": []
  }
 ],
 "metadata": {
  "kernelspec": {
   "display_name": "py35",
   "language": "python",
   "name": "py35"
  },
  "language_info": {
   "codemirror_mode": {
    "name": "ipython",
    "version": 3
   },
   "file_extension": ".py",
   "mimetype": "text/x-python",
   "name": "python",
   "nbconvert_exporter": "python",
   "pygments_lexer": "ipython3",
   "version": "3.5.1"
  }
 },
 "nbformat": 4,
 "nbformat_minor": 0
}
