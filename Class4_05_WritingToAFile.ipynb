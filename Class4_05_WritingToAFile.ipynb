{
 "cells": [
  {
   "cell_type": "markdown",
   "metadata": {},
   "source": [
    "Writing to a File\n",
    "=================\n",
    "\n",
    "You can use the same packages to write to file as you did to read from a file.\n",
    "\n",
    "You can also just use open().\n",
    "\n",
    "For writing to files, there are two options:\n",
    "\n",
    "1) create a new file and write to the new file.\n",
    "\n",
    "2) append data to an existing file\n",
    "\n",
    "To create and write to a new file, use 'w'.\n",
    "\n",
    "> with open('test.out', 'w') as outfile:\n",
    "\n",
    ">      outfile.write('This is a test.\\n')"
   ]
  },
  {
   "cell_type": "code",
   "execution_count": null,
   "metadata": {
    "collapsed": true
   },
   "outputs": [],
   "source": []
  },
  {
   "cell_type": "markdown",
   "metadata": {},
   "source": [
    "To append data to an existing file, use 'a'.\n",
    "\n",
    "> with open('test.out', 'a') as outfile:\n",
    "\n",
    ">     outfile.write('Add this line in the file.\\n')\n",
    "\n",
    ">     outfile.write('Add this line too.\\n')\n"
   ]
  },
  {
   "cell_type": "code",
   "execution_count": null,
   "metadata": {
    "collapsed": true
   },
   "outputs": [],
   "source": []
  },
  {
   "cell_type": "markdown",
   "metadata": {},
   "source": [
    "Things to think about:\n",
    "======================\n",
    "\n",
    "- if you try to open a file that is open somewhere else (like Excel), you will get an IOError.\n",
    "\n",
    "- be careful when giving the full path to a file if you have a windows machine because in strings the '\\' is an esscape key but windows uses it in between directory levels.\n",
    "\n",
    "- unlike print(), the .write() method doesn't add an end of line\n",
    "\n",
    "- unlike print(), the .write() method takes a single string"
   ]
  },
  {
   "cell_type": "code",
   "execution_count": null,
   "metadata": {
    "collapsed": true
   },
   "outputs": [],
   "source": []
  }
 ],
 "metadata": {
  "kernelspec": {
   "display_name": "py35",
   "language": "python",
   "name": "py35"
  },
  "language_info": {
   "codemirror_mode": {
    "name": "ipython",
    "version": 3
   },
   "file_extension": ".py",
   "mimetype": "text/x-python",
   "name": "python",
   "nbconvert_exporter": "python",
   "pygments_lexer": "ipython3",
   "version": "3.5.1"
  }
 },
 "nbformat": 4,
 "nbformat_minor": 0
}
