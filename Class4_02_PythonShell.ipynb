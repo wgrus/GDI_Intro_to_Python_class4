{
 "cells": [
  {
   "cell_type": "markdown",
   "metadata": {},
   "source": [
    "Coding in the Python Shell\n",
    "==========================\n",
    "\n",
    "Open a new window of your command line (Terminal on Mac or Powershell or CMD on Windows).\n",
    "\n",
    "at the prompt type\n",
    "\n",
    "> python\n",
    "\n",
    "![title](img/PythonShell.PNG)\n",
    "\n",
    "You can type python commands in the shell just like you would in a code cell in your Jupyter Notebook.\n",
    "\n",
    "> a = 4\n",
    "\n",
    "> b = 3\n",
    "\n",
    "> print(a + b)\n",
    "\n",
    "> a + b"
   ]
  },
  {
   "cell_type": "markdown",
   "metadata": {},
   "source": [
    "Code blocks in the shell.\n",
    "\n",
    "![title](img/CodeBlock.PNG)\n",
    "\n",
    "You have to space in yourself.\n",
    "\n",
    "Once you are done, you have to hit return an extra time to say you are done before anything is executed."
   ]
  },
  {
   "cell_type": "markdown",
   "metadata": {},
   "source": [
    "To exit out of the Python shell, type exit() or CTRL-d or CTRL-c"
   ]
  },
  {
   "cell_type": "markdown",
   "metadata": {},
   "source": [
    "Other Alternatives\n",
    "==================\n",
    "\n",
    "Visual Studio Tools for Python\n",
    "\n",
    "PyCharm\n",
    "\n",
    "Check out [this article on Python IDEs](https://checkio.org/blog/choosing-best-python-ide/)"
   ]
  }
 ],
 "metadata": {
  "kernelspec": {
   "display_name": "py35",
   "language": "python",
   "name": "py35"
  },
  "language_info": {
   "codemirror_mode": {
    "name": "ipython",
    "version": 3
   },
   "file_extension": ".py",
   "mimetype": "text/x-python",
   "name": "python",
   "nbconvert_exporter": "python",
   "pygments_lexer": "ipython3",
   "version": "3.5.1"
  }
 },
 "nbformat": 4,
 "nbformat_minor": 0
}
