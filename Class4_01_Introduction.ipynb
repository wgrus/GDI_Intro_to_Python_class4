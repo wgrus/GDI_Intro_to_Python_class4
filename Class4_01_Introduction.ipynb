{
 "cells": [
  {
   "cell_type": "markdown",
   "metadata": {},
   "source": [
    "Class 4:\n",
    "========\n",
    "\n",
    "Review from last time:\n",
    "\n",
    "- methods\n",
    "\n",
    "- functions\n",
    "\n",
    "- import statements\n",
    "\n",
    "- lists\n",
    "\n",
    "This class:\n",
    "\n",
    "- tuples\n",
    "\n",
    "- sets\n",
    "\n",
    "- dictionaries\n",
    "\n",
    "- coding in the shell\n",
    "\n",
    "- running python scripts from a file\n",
    "\n",
    "- reading and writing files\n",
    "\n",
    "- fun with errors"
   ]
  },
  {
   "cell_type": "markdown",
   "metadata": {},
   "source": [
    "Ways to keep coding\n",
    "===================\n",
    "\n",
    "- Understand your inputs and your outputs.\n",
    "\n",
    "- Map out your functions and data structures in pseudocode\n",
    "\n",
    "- Start simple and iteratively add complexity\n",
    "\n",
    "Ways to Keep Coding\n",
    "===================\n",
    "\n",
    "- Don't be afraid of errors!\n",
    "\n",
    "- Pair code/ Meetup code\n",
    "\n",
    "- Identify packages/APIs used by people in your field and learn how to use them.\n"
   ]
  }
 ],
 "metadata": {
  "kernelspec": {
   "display_name": "py35",
   "language": "python",
   "name": "py35"
  },
  "language_info": {
   "codemirror_mode": {
    "name": "ipython",
    "version": 3
   },
   "file_extension": ".py",
   "mimetype": "text/x-python",
   "name": "python",
   "nbconvert_exporter": "python",
   "pygments_lexer": "ipython3",
   "version": "3.5.1"
  }
 },
 "nbformat": 4,
 "nbformat_minor": 0
}
